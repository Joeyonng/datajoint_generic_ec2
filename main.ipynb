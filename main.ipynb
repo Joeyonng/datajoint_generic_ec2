{
 "cells": [
  {
   "cell_type": "code",
   "execution_count": 3,
   "metadata": {},
   "outputs": [],
   "source": [
    "import os\n",
    "import datajoint as dj\n",
    "import numpy as np\n",
    "import yaml\n",
    "from computation import compute\n",
    "    \n",
    "with open('./credentials.yaml') as file:\n",
    "    credential = yaml.load(file, Loader=yaml.FullLoader)\n",
    "    \n",
    "# Connect to the datajoint database\n",
    "dj.config['database.user'] = credential['user']\n",
    "dj.config['database.password'] = credential['password']\n",
    "dj.config['database.host'] = credential['host']\n",
    "dj.conn()\n",
    "\n",
    "# Get the specified schema reference\n",
    "schema = dj.schema(credential['schema'])\n",
    "\n",
    "schema.spawn_missing_classes()"
   ]
  },
  {
   "cell_type": "code",
   "execution_count": 4,
   "metadata": {},
   "outputs": [
    {
     "name": "stdout",
     "output_type": "stream",
     "text": [
      "`litao_common_atlas_test`.`_children` (4 tuples)\n",
      "Proceed? [yes, No]: yes\n",
      "Tables dropped.  Restart kernel.\n"
     ]
    }
   ],
   "source": [
    "Children.drop()"
   ]
  }
 ],
 "metadata": {
  "kernelspec": {
   "display_name": "Python 3",
   "language": "python",
   "name": "python3"
  },
  "language_info": {
   "codemirror_mode": {
    "name": "ipython",
    "version": 3
   },
   "file_extension": ".py",
   "mimetype": "text/x-python",
   "name": "python",
   "nbconvert_exporter": "python",
   "pygments_lexer": "ipython3",
   "version": "3.6.9"
  }
 },
 "nbformat": 4,
 "nbformat_minor": 4
}
